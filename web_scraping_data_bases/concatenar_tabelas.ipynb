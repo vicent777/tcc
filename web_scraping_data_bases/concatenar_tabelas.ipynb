{
 "cells": [
  {
   "cell_type": "code",
   "execution_count": 14,
   "id": "1050c3fc",
   "metadata": {},
   "outputs": [],
   "source": [
    "import pandas as pd\n",
    "import os\n",
    "import glob"
   ]
  },
  {
   "cell_type": "code",
   "execution_count": 15,
   "id": "2034abc6",
   "metadata": {},
   "outputs": [
    {
     "name": "stdout",
     "output_type": "stream",
     "text": [
      "Lendo: Atlante_Plaza\n",
      "Lendo: Beach_Class_Convention\n",
      "Lendo: Bianca_Praia_Hotel\n",
      "Lendo: Bugan\n",
      "Lendo: Duble_Hotel\n",
      "Lendo: El_Aram_Beach\n",
      "Lendo: Fity_Hotel\n",
      "Lendo: Grand_Mercure\n",
      "Lendo: Hotel_Barramares\n",
      "Lendo: Hotel_Boa_Viagem_Aeroporto\n",
      "Lendo: Hotel_Enseada_Boa_Viagem\n",
      "Lendo: Hotel_Euro_Suite\n",
      "Lendo: Hotel_Golden_Park\n",
      "Lendo: Hotel_Jangadeiro\n",
      "Lendo: Hotel_Nacional_Inn\n",
      "Lendo: Hotel_Uzi_Mar\n",
      "Lendo: Hotel_Villa_Mar\n",
      "Lendo: Hote_Saveiro\n",
      "Lendo: Ibis_Recife_Aeroporto\n",
      "Lendo: Marante_Plaza\n",
      "Lendo: Mar_Hotel_Conventions\n",
      "Lendo: Mercure_Recife\n",
      "Lendo: Park_Hotel\n",
      "Lendo: Radisson_Recife\n",
      "Lendo: Rede_Andrade_LG_Inn\n",
      "Lendo: Rede_Andrade_Navegantes\n",
      "Lendo: Rede_Andrade_Onda_mar\n",
      "Lendo: Suites_Residence\n",
      "Lendo: Transamerica_Fit_Recife\n",
      "Lendo: Vela_Branca\n",
      "\n",
      "✅ Arquivo final salvo em: C:\\Users\\TERRA\\JAVA\\dio-java-basico\\TCC\\Consolidado_Hoteis.xlsx\n"
     ]
    }
   ],
   "source": [
    "# Definindo o caminho dos arquivos\n",
    "destino = r\"C:\\Users\\TERRA\\JAVA\\dio-java-basico\\TCC\"\n",
    "arquivos = glob.glob(os.path.join(destino, \"*.xlsx\"))\n",
    "\n",
    "# Criando uma lista para armazenar os DataFrames\n",
    "lista_df = []\n",
    "\n",
    "for arquivo in arquivos:\n",
    "    nome_arquivo = os.path.splitext(os.path.basename(arquivo))[0]\n",
    "    print(f\"Lendo: {nome_arquivo}\")\n",
    "\n",
    "    df = pd.read_excel(arquivo)\n",
    "    df['Hotel'] = nome_arquivo  # Adiciona coluna com o nome do hotel\n",
    "    lista_df.append(df)  # Aqui sim adiciona à lista\n",
    "\n",
    "# Concatena tudo\n",
    "df_consolidado = pd.concat(lista_df, ignore_index=True)\n",
    "\n",
    "# Salva o arquivo consolidado\n",
    "arquivo_final = os.path.join(destino, \"Consolidado_Hoteis.xlsx\")\n",
    "df_consolidado.to_excel(arquivo_final, index=False)\n",
    "\n",
    "print(f\"\\n✅ Arquivo final salvo em: {arquivo_final}\")\n",
    "\n"
   ]
  },
  {
   "cell_type": "code",
   "execution_count": null,
   "id": "0826dcdf",
   "metadata": {},
   "outputs": [],
   "source": []
  }
 ],
 "metadata": {
  "kernelspec": {
   "display_name": "base",
   "language": "python",
   "name": "python3"
  },
  "language_info": {
   "codemirror_mode": {
    "name": "ipython",
    "version": 3
   },
   "file_extension": ".py",
   "mimetype": "text/x-python",
   "name": "python",
   "nbconvert_exporter": "python",
   "pygments_lexer": "ipython3",
   "version": "3.12.7"
  }
 },
 "nbformat": 4,
 "nbformat_minor": 5
}
