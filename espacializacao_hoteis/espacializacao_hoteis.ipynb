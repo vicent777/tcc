{
 "cells": [
  {
   "cell_type": "code",
   "execution_count": 12,
   "id": "1626b940",
   "metadata": {},
   "outputs": [],
   "source": [
    "import pandas as pd\n",
    "import janitor\n",
    "import geopandas as gpd"
   ]
  },
  {
   "cell_type": "code",
   "execution_count": 31,
   "id": "cb1e5101",
   "metadata": {},
   "outputs": [],
   "source": [
    "hoteis_df = pd.read_excel('hoteis_tratados.xlsx').clean_names()"
   ]
  },
  {
   "cell_type": "code",
   "execution_count": 34,
   "id": "6948e3dc",
   "metadata": {},
   "outputs": [
    {
     "data": {
      "text/plain": [
       "['Atlante_Plaza',\n",
       " 'Beach_Class_Convention',\n",
       " 'Bianca_Praia_Hotel',\n",
       " 'Bugan',\n",
       " 'Duble_Hotel',\n",
       " 'El_Aram_Beach',\n",
       " 'Fity_Hotel',\n",
       " 'Grand_Mercure',\n",
       " 'Hotel_Barramares',\n",
       " 'Hotel_Boa_Viagem_Aeroporto',\n",
       " 'Hotel_Enseada_Boa_Viagem',\n",
       " 'Hotel_Euro_Suite',\n",
       " 'Hotel_Golden_Park',\n",
       " 'Hotel_Jangadeiro',\n",
       " 'Hotel_Nacional_Inn',\n",
       " 'Hotel_Uzi_Mar',\n",
       " 'Hotel_Villa_Mar',\n",
       " 'Hote_Saveiro',\n",
       " 'Ibis_Recife_Aeroporto',\n",
       " 'Marante_Plaza',\n",
       " 'Mar_Hotel_Conventions',\n",
       " 'Mercure_Recife',\n",
       " 'Park_Hotel',\n",
       " 'Radisson_Recife',\n",
       " 'Rede_Andrade_LG_Inn',\n",
       " 'Rede_Andrade_Navegantes',\n",
       " 'Rede_Andrade_Onda_mar',\n",
       " 'Suites_Residence',\n",
       " 'Transamerica_Fit_Recife',\n",
       " 'Vela_Branca']"
      ]
     },
     "execution_count": 34,
     "metadata": {},
     "output_type": "execute_result"
    }
   ],
   "source": [
    "hoteis_unicos = hoteis_df['hotel'].unique().tolist()\n",
    "hoteis_unicos"
   ]
  },
  {
   "cell_type": "code",
   "execution_count": null,
   "id": "eafab9eb",
   "metadata": {},
   "outputs": [],
   "source": [
    "# salvar os hoteis únicos em um arquivo Excel\n",
    "# pd.DataFrame({'hotel': hoteis_unicos}).to_excel('hoteis_coord.xlsx', index=False)"
   ]
  },
  {
   "cell_type": "markdown",
   "id": "6892428e",
   "metadata": {},
   "source": [
    "# Coletar as coordenadas de cada hotel:"
   ]
  },
  {
   "cell_type": "markdown",
   "id": "39189b33",
   "metadata": {},
   "source": [
    "## Abrir Google Maps (https://www.google.com/maps)"
   ]
  },
  {
   "cell_type": "markdown",
   "id": "27971000",
   "metadata": {},
   "source": [
    "## Digitar o nome do Hotel na Caixa de busca\n",
    "![Google Maps](Imagem1.png)"
   ]
  },
  {
   "cell_type": "markdown",
   "id": "f2b28aa4",
   "metadata": {},
   "source": [
    "## Clicar no nome do Hotel com o botaõ direito do mouse\n",
    "![Google Maps](Imagem2.png)"
   ]
  },
  {
   "cell_type": "markdown",
   "id": "dd001e22",
   "metadata": {},
   "source": [
    "## Basta clicar nas coordenadas que já copia para a área de transferência\n",
    "![Google Maps](Imagem3.png)"
   ]
  },
  {
   "cell_type": "markdown",
   "id": "4b5ecf43",
   "metadata": {},
   "source": [
    "## Depois você cola em `hoteis_coord.xlsx`\n",
    "![Google Maps](Imagem4.png)"
   ]
  },
  {
   "cell_type": "markdown",
   "id": "7f857ca2",
   "metadata": {},
   "source": [
    "# Ler o arquivo Excel com os hoteis únicos"
   ]
  },
  {
   "cell_type": "code",
   "execution_count": null,
   "id": "6410f963",
   "metadata": {},
   "outputs": [],
   "source": [
    "\n",
    "hoteis_unicos_df = pd.read_excel('hoteis_coord.xlsx').clean_names()\n",
    "hoteis_unicos_df"
   ]
  },
  {
   "cell_type": "markdown",
   "id": "cb1bd7bc",
   "metadata": {},
   "source": [
    "# Separar a coluna `coords` em duas colunas `latitude` e `longitude`"
   ]
  },
  {
   "cell_type": "code",
   "execution_count": 71,
   "id": "8d58c16a",
   "metadata": {},
   "outputs": [
    {
     "name": "stderr",
     "output_type": "stream",
     "text": [
      "C:\\Users\\Itamar\\AppData\\Local\\Temp\\ipykernel_3560\\3988635219.py:1: SettingWithCopyWarning: \n",
      "A value is trying to be set on a copy of a slice from a DataFrame.\n",
      "Try using .loc[row_indexer,col_indexer] = value instead\n",
      "\n",
      "See the caveats in the documentation: https://pandas.pydata.org/pandas-docs/stable/user_guide/indexing.html#returning-a-view-versus-a-copy\n",
      "  hoteis_unicos_df[['latitude','longitude']] = hoteis_unicos_df['coords'].str.split(',', expand= True)\n",
      "C:\\Users\\Itamar\\AppData\\Local\\Temp\\ipykernel_3560\\3988635219.py:1: SettingWithCopyWarning: \n",
      "A value is trying to be set on a copy of a slice from a DataFrame.\n",
      "Try using .loc[row_indexer,col_indexer] = value instead\n",
      "\n",
      "See the caveats in the documentation: https://pandas.pydata.org/pandas-docs/stable/user_guide/indexing.html#returning-a-view-versus-a-copy\n",
      "  hoteis_unicos_df[['latitude','longitude']] = hoteis_unicos_df['coords'].str.split(',', expand= True)\n"
     ]
    },
    {
     "data": {
      "text/html": [
       "<div>\n",
       "<style scoped>\n",
       "    .dataframe tbody tr th:only-of-type {\n",
       "        vertical-align: middle;\n",
       "    }\n",
       "\n",
       "    .dataframe tbody tr th {\n",
       "        vertical-align: top;\n",
       "    }\n",
       "\n",
       "    .dataframe thead th {\n",
       "        text-align: right;\n",
       "    }\n",
       "</style>\n",
       "<table border=\"1\" class=\"dataframe\">\n",
       "  <thead>\n",
       "    <tr style=\"text-align: right;\">\n",
       "      <th></th>\n",
       "      <th>hotel</th>\n",
       "      <th>latitude</th>\n",
       "      <th>longitude</th>\n",
       "    </tr>\n",
       "  </thead>\n",
       "  <tbody>\n",
       "    <tr>\n",
       "      <th>0</th>\n",
       "      <td>Atlante_Plaza</td>\n",
       "      <td>-8.136203379265334</td>\n",
       "      <td>-34.90138595924756</td>\n",
       "    </tr>\n",
       "    <tr>\n",
       "      <th>1</th>\n",
       "      <td>Beach_Class_Convention</td>\n",
       "      <td>-8.113060663182512</td>\n",
       "      <td>-34.89791227884781</td>\n",
       "    </tr>\n",
       "    <tr>\n",
       "      <th>2</th>\n",
       "      <td>Bianca_Praia_Hotel</td>\n",
       "      <td>-8.116538871476644</td>\n",
       "      <td>-34.89485987458913</td>\n",
       "    </tr>\n",
       "    <tr>\n",
       "      <th>3</th>\n",
       "      <td>Bugan</td>\n",
       "      <td>NaN</td>\n",
       "      <td>NaN</td>\n",
       "    </tr>\n",
       "    <tr>\n",
       "      <th>4</th>\n",
       "      <td>Duble_Hotel</td>\n",
       "      <td>NaN</td>\n",
       "      <td>NaN</td>\n",
       "    </tr>\n",
       "    <tr>\n",
       "      <th>5</th>\n",
       "      <td>El_Aram_Beach</td>\n",
       "      <td>NaN</td>\n",
       "      <td>NaN</td>\n",
       "    </tr>\n",
       "    <tr>\n",
       "      <th>6</th>\n",
       "      <td>Fity_Hotel</td>\n",
       "      <td>NaN</td>\n",
       "      <td>NaN</td>\n",
       "    </tr>\n",
       "    <tr>\n",
       "      <th>7</th>\n",
       "      <td>Grand_Mercure</td>\n",
       "      <td>NaN</td>\n",
       "      <td>NaN</td>\n",
       "    </tr>\n",
       "    <tr>\n",
       "      <th>8</th>\n",
       "      <td>Hotel_Barramares</td>\n",
       "      <td>NaN</td>\n",
       "      <td>NaN</td>\n",
       "    </tr>\n",
       "    <tr>\n",
       "      <th>9</th>\n",
       "      <td>Hotel_Boa_Viagem_Aeroporto</td>\n",
       "      <td>NaN</td>\n",
       "      <td>NaN</td>\n",
       "    </tr>\n",
       "    <tr>\n",
       "      <th>10</th>\n",
       "      <td>Hotel_Enseada_Boa_Viagem</td>\n",
       "      <td>NaN</td>\n",
       "      <td>NaN</td>\n",
       "    </tr>\n",
       "    <tr>\n",
       "      <th>11</th>\n",
       "      <td>Hotel_Euro_Suite</td>\n",
       "      <td>NaN</td>\n",
       "      <td>NaN</td>\n",
       "    </tr>\n",
       "    <tr>\n",
       "      <th>12</th>\n",
       "      <td>Hotel_Golden_Park</td>\n",
       "      <td>NaN</td>\n",
       "      <td>NaN</td>\n",
       "    </tr>\n",
       "    <tr>\n",
       "      <th>13</th>\n",
       "      <td>Hotel_Jangadeiro</td>\n",
       "      <td>NaN</td>\n",
       "      <td>NaN</td>\n",
       "    </tr>\n",
       "    <tr>\n",
       "      <th>14</th>\n",
       "      <td>Hotel_Nacional_Inn</td>\n",
       "      <td>NaN</td>\n",
       "      <td>NaN</td>\n",
       "    </tr>\n",
       "    <tr>\n",
       "      <th>15</th>\n",
       "      <td>Hotel_Uzi_Mar</td>\n",
       "      <td>NaN</td>\n",
       "      <td>NaN</td>\n",
       "    </tr>\n",
       "    <tr>\n",
       "      <th>16</th>\n",
       "      <td>Hotel_Villa_Mar</td>\n",
       "      <td>NaN</td>\n",
       "      <td>NaN</td>\n",
       "    </tr>\n",
       "    <tr>\n",
       "      <th>17</th>\n",
       "      <td>Hote_Saveiro</td>\n",
       "      <td>NaN</td>\n",
       "      <td>NaN</td>\n",
       "    </tr>\n",
       "    <tr>\n",
       "      <th>18</th>\n",
       "      <td>Ibis_Recife_Aeroporto</td>\n",
       "      <td>NaN</td>\n",
       "      <td>NaN</td>\n",
       "    </tr>\n",
       "    <tr>\n",
       "      <th>19</th>\n",
       "      <td>Marante_Plaza</td>\n",
       "      <td>NaN</td>\n",
       "      <td>NaN</td>\n",
       "    </tr>\n",
       "    <tr>\n",
       "      <th>20</th>\n",
       "      <td>Mar_Hotel_Conventions</td>\n",
       "      <td>NaN</td>\n",
       "      <td>NaN</td>\n",
       "    </tr>\n",
       "    <tr>\n",
       "      <th>21</th>\n",
       "      <td>Mercure_Recife</td>\n",
       "      <td>NaN</td>\n",
       "      <td>NaN</td>\n",
       "    </tr>\n",
       "    <tr>\n",
       "      <th>22</th>\n",
       "      <td>Park_Hotel</td>\n",
       "      <td>NaN</td>\n",
       "      <td>NaN</td>\n",
       "    </tr>\n",
       "    <tr>\n",
       "      <th>23</th>\n",
       "      <td>Radisson_Recife</td>\n",
       "      <td>NaN</td>\n",
       "      <td>NaN</td>\n",
       "    </tr>\n",
       "    <tr>\n",
       "      <th>24</th>\n",
       "      <td>Rede_Andrade_LG_Inn</td>\n",
       "      <td>NaN</td>\n",
       "      <td>NaN</td>\n",
       "    </tr>\n",
       "    <tr>\n",
       "      <th>25</th>\n",
       "      <td>Rede_Andrade_Navegantes</td>\n",
       "      <td>NaN</td>\n",
       "      <td>NaN</td>\n",
       "    </tr>\n",
       "    <tr>\n",
       "      <th>26</th>\n",
       "      <td>Rede_Andrade_Onda_mar</td>\n",
       "      <td>NaN</td>\n",
       "      <td>NaN</td>\n",
       "    </tr>\n",
       "    <tr>\n",
       "      <th>27</th>\n",
       "      <td>Suites_Residence</td>\n",
       "      <td>NaN</td>\n",
       "      <td>NaN</td>\n",
       "    </tr>\n",
       "    <tr>\n",
       "      <th>28</th>\n",
       "      <td>Transamerica_Fit_Recife</td>\n",
       "      <td>NaN</td>\n",
       "      <td>NaN</td>\n",
       "    </tr>\n",
       "    <tr>\n",
       "      <th>29</th>\n",
       "      <td>Vela_Branca</td>\n",
       "      <td>NaN</td>\n",
       "      <td>NaN</td>\n",
       "    </tr>\n",
       "  </tbody>\n",
       "</table>\n",
       "</div>"
      ],
      "text/plain": [
       "                         hotel            latitude            longitude\n",
       "0                Atlante_Plaza  -8.136203379265334   -34.90138595924756\n",
       "1       Beach_Class_Convention  -8.113060663182512   -34.89791227884781\n",
       "2           Bianca_Praia_Hotel  -8.116538871476644   -34.89485987458913\n",
       "3                        Bugan                 NaN                  NaN\n",
       "4                  Duble_Hotel                 NaN                  NaN\n",
       "5                El_Aram_Beach                 NaN                  NaN\n",
       "6                   Fity_Hotel                 NaN                  NaN\n",
       "7                Grand_Mercure                 NaN                  NaN\n",
       "8             Hotel_Barramares                 NaN                  NaN\n",
       "9   Hotel_Boa_Viagem_Aeroporto                 NaN                  NaN\n",
       "10    Hotel_Enseada_Boa_Viagem                 NaN                  NaN\n",
       "11            Hotel_Euro_Suite                 NaN                  NaN\n",
       "12           Hotel_Golden_Park                 NaN                  NaN\n",
       "13            Hotel_Jangadeiro                 NaN                  NaN\n",
       "14          Hotel_Nacional_Inn                 NaN                  NaN\n",
       "15               Hotel_Uzi_Mar                 NaN                  NaN\n",
       "16             Hotel_Villa_Mar                 NaN                  NaN\n",
       "17                Hote_Saveiro                 NaN                  NaN\n",
       "18       Ibis_Recife_Aeroporto                 NaN                  NaN\n",
       "19               Marante_Plaza                 NaN                  NaN\n",
       "20       Mar_Hotel_Conventions                 NaN                  NaN\n",
       "21              Mercure_Recife                 NaN                  NaN\n",
       "22                  Park_Hotel                 NaN                  NaN\n",
       "23             Radisson_Recife                 NaN                  NaN\n",
       "24         Rede_Andrade_LG_Inn                 NaN                  NaN\n",
       "25     Rede_Andrade_Navegantes                 NaN                  NaN\n",
       "26       Rede_Andrade_Onda_mar                 NaN                  NaN\n",
       "27            Suites_Residence                 NaN                  NaN\n",
       "28     Transamerica_Fit_Recife                 NaN                  NaN\n",
       "29                 Vela_Branca                 NaN                  NaN"
      ]
     },
     "execution_count": 71,
     "metadata": {},
     "output_type": "execute_result"
    }
   ],
   "source": [
    "hoteis_unicos_df[['latitude','longitude']] = hoteis_unicos_df['coords'].str.split(',', expand= True)\n",
    "hoteis_unicos_df = hoteis_unicos_df.drop(columns = ['coords'])\n",
    "hoteis_unicos_df"
   ]
  },
  {
   "cell_type": "markdown",
   "id": "d83758b3",
   "metadata": {},
   "source": [
    "# converter para GeoDataFrame\n"
   ]
  },
  {
   "cell_type": "code",
   "execution_count": null,
   "id": "81926910",
   "metadata": {},
   "outputs": [],
   "source": [
    "\n",
    "hoteis_unicos_gdf = gpd.GeoDataFrame(hoteis_unicos_df, \n",
    "                           geometry = gpd.points_from_xy(hoteis_unicos_df['longitude'], hoteis_unicos_df['latitude']), \n",
    "                           crs='EPSG:31985')\n",
    "\n",
    "hoteis_unicos_gdf"
   ]
  },
  {
   "cell_type": "markdown",
   "id": "3537ddc9",
   "metadata": {},
   "source": [
    "# carregar o arquivo shapefile\n",
    "\n",
    "Atenção: O shapefile é composto por vários arquivos, como .shp, .shx, .dbf, etc. Embora aparentemente o python só leia o arquivo `.shp`, na prática ele precisa de todos os demais. Portanto, para o bom funcionamento do processo, vc precisa manter todos os arquivos na mesma pasta."
   ]
  },
  {
   "cell_type": "code",
   "execution_count": 72,
   "id": "fae029a0",
   "metadata": {},
   "outputs": [],
   "source": [
    "\n",
    "recife_shape = gpd.read_file('recife.shp')"
   ]
  },
  {
   "cell_type": "code",
   "execution_count": 73,
   "id": "4b00e699",
   "metadata": {},
   "outputs": [
    {
     "data": {
      "text/html": [
       "<div>\n",
       "<style scoped>\n",
       "    .dataframe tbody tr th:only-of-type {\n",
       "        vertical-align: middle;\n",
       "    }\n",
       "\n",
       "    .dataframe tbody tr th {\n",
       "        vertical-align: top;\n",
       "    }\n",
       "\n",
       "    .dataframe thead th {\n",
       "        text-align: right;\n",
       "    }\n",
       "</style>\n",
       "<table border=\"1\" class=\"dataframe\">\n",
       "  <thead>\n",
       "    <tr style=\"text-align: right;\">\n",
       "      <th></th>\n",
       "      <th>code_mn</th>\n",
       "      <th>name_mn</th>\n",
       "      <th>cod_stt</th>\n",
       "      <th>abbrv_s</th>\n",
       "      <th>geometry</th>\n",
       "    </tr>\n",
       "  </thead>\n",
       "  <tbody>\n",
       "    <tr>\n",
       "      <th>0</th>\n",
       "      <td>2611606.0</td>\n",
       "      <td>Recife</td>\n",
       "      <td>26</td>\n",
       "      <td>PE</td>\n",
       "      <td>POLYGON ((-34.96842 -8.02256, -34.96646 -8.022...</td>\n",
       "    </tr>\n",
       "  </tbody>\n",
       "</table>\n",
       "</div>"
      ],
      "text/plain": [
       "     code_mn name_mn cod_stt abbrv_s  \\\n",
       "0  2611606.0  Recife      26      PE   \n",
       "\n",
       "                                            geometry  \n",
       "0  POLYGON ((-34.96842 -8.02256, -34.96646 -8.022...  "
      ]
     },
     "execution_count": 73,
     "metadata": {},
     "output_type": "execute_result"
    }
   ],
   "source": [
    "recife_shape"
   ]
  },
  {
   "cell_type": "markdown",
   "id": "a63b1590",
   "metadata": {},
   "source": [
    "# plotar o GeoDataFrame"
   ]
  },
  {
   "cell_type": "code",
   "execution_count": 74,
   "id": "89078795",
   "metadata": {},
   "outputs": [
    {
     "data": {
      "image/png": "[encoded data removed]",
      "text/plain": [
       "<Figure size 640x480 with 1 Axes>"
      ]
     },
     "metadata": {},
     "output_type": "display_data"
    }
   ],
   "source": [
    "import matplotlib.pyplot as plt\n",
    "\n",
    "recife_shape.plot( color='white', edgecolor='black')\n",
    "hoteis_unicos_gdf.plot(ax=plt.gca(), color='red', markersize=5)\n",
    "\n",
    "plt.title('Distribuição espacial dos hotéis analisados (Recife - PE)')\n",
    "plt.show()"
   ]
  }
 ],
 "metadata": {
  "kernelspec": {
   "display_name": "base",
   "language": "python",
   "name": "python3"
  },
  "language_info": {
   "codemirror_mode": {
    "name": "ipython",
    "version": 3
   },
   "file_extension": ".py",
   "mimetype": "text/x-python",
   "name": "python",
   "nbconvert_exporter": "python",
   "pygments_lexer": "ipython3",
   "version": "3.11.7"
  }
 },
 "nbformat": 4,
 "nbformat_minor": 5
}
